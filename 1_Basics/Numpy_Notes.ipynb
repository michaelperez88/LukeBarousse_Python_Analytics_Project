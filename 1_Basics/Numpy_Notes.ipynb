{
  "nbformat": 4,
  "nbformat_minor": 0,
  "metadata": {
    "colab": {
      "provenance": []
    },
    "kernelspec": {
      "name": "python3",
      "display_name": "Python 3"
    },
    "language_info": {
      "name": "python"
    }
  },
  "cells": [
    {
      "cell_type": "code",
      "execution_count": null,
      "metadata": {
        "id": "zknKReCSyOOq"
      },
      "outputs": [],
      "source": [
        "# importing numpy, alias as \"np\"\n",
        "\n",
        "import numpy as np"
      ]
    },
    {
      "cell_type": "code",
      "source": [
        "# core data type inside of numpy >> ARRAYS\n",
        "# provide objects inside of arrays\n",
        "\n",
        "import numpy as np\n",
        "\n",
        "#np.array is a function\n",
        "\n",
        "my_array = np.array([1, 2, 3, 4])\n",
        "\n",
        "my_array.mean()\n"
      ],
      "metadata": {
        "colab": {
          "base_uri": "https://localhost:8080/"
        },
        "id": "P4yeyj5s2e8R",
        "outputId": "02d4a932-126b-41c2-e829-22e24f25852b"
      },
      "execution_count": null,
      "outputs": [
        {
          "output_type": "execute_result",
          "data": {
            "text/plain": [
              "2.5"
            ]
          },
          "metadata": {},
          "execution_count": 5
        }
      ]
    },
    {
      "cell_type": "code",
      "source": [
        "# can do computation between arrays\n",
        "\n",
        "#job titles\n",
        "\n",
        "job_titles = np.array(['Data Analyst', 'Data Scientist', 'Data Engineer', 'Machine Learning Engineer'])\n",
        "\n",
        "# base salaries\n",
        "\n",
        "base_salaries = np.array([60000, 80000, 75000, 90000])\n",
        "\n",
        "# bonus rates\n",
        "\n",
        "bonus_rates = np.array([.05, .1, .08, .12])\n",
        "\n",
        "total_salaries = base_salaries * (1 + bonus_rates)\n",
        "\n",
        "np.mean(total_salaries)\n",
        "\n"
      ],
      "metadata": {
        "colab": {
          "base_uri": "https://localhost:8080/"
        },
        "id": "D6Wd75ml2ieR",
        "outputId": "df6c9eb2-43c9-40fc-ba86-83409655f283"
      },
      "execution_count": null,
      "outputs": [
        {
          "output_type": "execute_result",
          "data": {
            "text/plain": [
              "83200.0"
            ]
          },
          "metadata": {},
          "execution_count": 8
        }
      ]
    },
    {
      "cell_type": "code",
      "source": [
        "# use NAN for null values (Not A Number)\n",
        "\n",
        "#job titles\n",
        "\n",
        "job_titles = np.array(['Data Analyst', 'Data Scientist', 'Data Engineer', 'Machine Learning Engineer', 'AI Engineer'])\n",
        "\n",
        "# base salaries\n",
        "\n",
        "base_salaries = np.array([60000, 80000, 75000, 90000, np.nan])\n",
        "\n",
        "# bonus rates\n",
        "\n",
        "bonus_rates = np.array([.05, .1, .08, .12, np.nan])\n",
        "\n",
        "total_salaries = base_salaries * (1 + bonus_rates)\n",
        "\n",
        "# use nanmean\n",
        "\n",
        "np.nanmean(total_salaries)"
      ],
      "metadata": {
        "colab": {
          "base_uri": "https://localhost:8080/"
        },
        "id": "SrHEb6OO5Cqh",
        "outputId": "aa7907b1-c387-4240-8e2a-2a522ac57b83"
      },
      "execution_count": null,
      "outputs": [
        {
          "output_type": "execute_result",
          "data": {
            "text/plain": [
              "83200.0"
            ]
          },
          "metadata": {},
          "execution_count": 11
        }
      ]
    }
  ]
}